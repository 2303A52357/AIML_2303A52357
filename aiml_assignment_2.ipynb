{
  "cells": [
    {
      "cell_type": "markdown",
      "metadata": {
        "id": "view-in-github",
        "colab_type": "text"
      },
      "source": [
        "<a href=\"https://colab.research.google.com/github/2303A52357/AIML_2303A52357/blob/main/aiml_assignment_2.ipynb\" target=\"_parent\"><img src=\"https://colab.research.google.com/assets/colab-badge.svg\" alt=\"Open In Colab\"/></a>"
      ]
    },
    {
      "cell_type": "markdown",
      "metadata": {
        "id": "H2TwXJmLBtCI"
      },
      "source": [
        "# Lab Exercise - Implement Breadth First, Depth First and A* Search Algorithms\n",
        "Part 1 – Implement Breadth First Search Algorithm using a Queue"
      ]
    },
    {
      "cell_type": "markdown",
      "metadata": {
        "id": "baVkvEI0Eu3E"
      },
      "source": [
        "\n",
        "1. Given a graph with adjacency list and a starting vertex and we have to traverse the\n",
        "graph.\n",
        "2. We will first print the value in the starting vertex,\n",
        "3. Continue to print the value of neighbors of the starting vertex and\n",
        "4. Next move on to the next level after completing the current level till all the vertices of\n",
        "the graph are printed."
      ]
    },
    {
      "cell_type": "code",
      "execution_count": null,
      "metadata": {
        "id": "6ZTtqoUEFBgD"
      },
      "outputs": [],
      "source": [
        "from queue import Queue"
      ]
    },
    {
      "cell_type": "code",
      "execution_count": null,
      "metadata": {
        "colab": {
          "base_uri": "https://localhost:8080/"
        },
        "id": "yyEUeldhFwXz",
        "outputId": "e2bba8a2-8b96-4328-9366-6eeec1a3182e"
      },
      "outputs": [
        {
          "name": "stdout",
          "output_type": "stream",
          "text": [
            "the adjacency List representing the graph is:  {0: [1, 3], 1: [0, 1, 2], 2: [1, 4, 5], 3: [0, 1, 4], 4: [2, 3, 5], 5: [2, 4]}\n",
            "0-->1-->3-->2-->4-->5-->"
          ]
        }
      ],
      "source": [
        "graph={0:[1,3],1:[0,1,2],2:[1,4,5],3:[0,1,4],4:[2,3,5],5:[2,4]}\n",
        "print(\"the adjacency List representing the graph is: \",graph)\n",
        "def bfs(graph,start):\n",
        "  q=Queue()\n",
        "  visited_vertices=set()\n",
        "  q.put(start)\n",
        "  visited_vertices.update({0})\n",
        "  while not q.empty():\n",
        "    vertex=q.get()\n",
        "    print(vertex,end=\"-->\")\n",
        "    for u in graph[vertex]:\n",
        "      if u not in visited_vertices:\n",
        "        q.put(u)\n",
        "      visited_vertices.update({u})\n",
        "bfs(graph,0)"
      ]
    },
    {
      "cell_type": "markdown",
      "metadata": {
        "id": "HMhHhqjBCGtH"
      },
      "source": [
        "**Part 2 – Implement Depth First Search Algorithm using a Stack**\n",
        "\n",
        "0.1 DFS Stack implementations steps to be followed:\n",
        "1. Start at the root node and push it onto the stack.\n",
        "2. Check for any adjacent nodes of the tree and select one node.\n",
        "3. Traverse the entire branch of the selected node and push all the nodes into the stack.\n",
        "4. Upon reaching the end of a branch (no more adjacent nodes) ie nth leaf node, move\n",
        "back by a single step and look for adjacent nodes of the n-1th node.\n",
        "5. If there are adjacent nodes for the n-1th node, traverse those branches and push nodes\n",
        "onto the stack."
      ]
    },
    {
      "cell_type": "code",
      "execution_count": null,
      "metadata": {
        "colab": {
          "base_uri": "https://localhost:8080/"
        },
        "id": "s_vCpbfHDRzM",
        "outputId": "194ffcfc-b3d5-47f4-b4fe-cef52bda9c2b"
      },
      "outputs": [
        {
          "name": "stdout",
          "output_type": "stream",
          "text": [
            "['B', 'A', 'S', 'C', 'D', 'E', 'H', 'G', 'F']\n"
          ]
        }
      ],
      "source": [
        "graph = {\n",
        "    'A' : ['B','S'],\n",
        "    'B' : ['A'],\n",
        "    'C' : ['D','E','F','S'],\n",
        "    'D' : ['C'],\n",
        "    'E' : ['C','H'],\n",
        "    'F' : ['C','G'],\n",
        "    'G' : ['F','S','H'],\n",
        "    'H' : ['E','G'],\n",
        "    'S' : ['A','C','G']\n",
        "     }\n",
        "def dfs(graph, node, visited):\n",
        "    if node not in visited:\n",
        "        visited.append(node)\n",
        "        for k in graph[node]:\n",
        "            dfs(graph,k, visited)\n",
        "    return visited\n",
        "visited = dfs(graph,'B',[])\n",
        "print(visited)"
      ]
    },
    {
      "cell_type": "markdown",
      "metadata": {
        "id": "xWocBmtOE6UP"
      },
      "source": [
        "**Part 3 – Implement A* Algorithm using Numpy**\n",
        "1. A*Algorithm (pronounced as A-star) is a combination of ‘branch and bound search\n",
        "algorithm’ and ‘best search algorithm’ combined with the dynamic programming prin\u0002ciple.\n",
        "2. The A* Algorithm is well-known because it is used for locating path and graph traver\u0002sals.\n",
        "3. This algorithm is used in numerous online maps and games.\n",
        "4. It uses a heuristic or evaluation function usually denoted by f(X) to determine the order\n",
        "in which the search visits nodes in the tree.\n",
        "2\n",
        "5. The heuristic function for a node N is defined as follows:\n",
        "f(x) = g(x) + h(x) (1)\n",
        "where g(x) is the actual cost estimate, h(x) is the heuristic cost estimate for the gives\n"
      ]
    },
    {
      "cell_type": "code",
      "execution_count": null,
      "metadata": {
        "colab": {
          "base_uri": "https://localhost:8080/"
        },
        "id": "1dew8uW_vED8",
        "outputId": "3e5f8960-bd2d-48e9-a814-26e0dcebe265"
      },
      "outputs": [
        {
          "output_type": "stream",
          "name": "stdout",
          "text": [
            " The 8 puzzle is solvable \n",
            "\n",
            "   2 8 3\n",
            "   7 1 4\n",
            "   0 6 5\n",
            "\n",
            "   2 8 3\n",
            "   0 1 4\n",
            "   7 6 5\n",
            "\n",
            "   2 8 3\n",
            "   1 0 4\n",
            "   7 6 5\n",
            "\n",
            "   2 0 3\n",
            "   1 8 4\n",
            "   7 6 5\n",
            "\n",
            "   0 2 3\n",
            "   1 8 4\n",
            "   7 6 5\n",
            "\n",
            "   1 2 3\n",
            "   0 8 4\n",
            "   7 6 5\n",
            "\n",
            "   1 2 3\n",
            "   8 0 4\n",
            "   7 6 5\n",
            "\n",
            "Steps to reach goal: 6\n",
            "Total nodes visited:  11 \n",
            "\n"
          ]
        },
        {
          "output_type": "stream",
          "name": "stderr",
          "text": [
            "<ipython-input-8-fac532dbb432>:45: DeprecationWarning: Conversion of an array with ndim > 0 to a scalar is deprecated, and will error in future. Ensure you extract a single element from your array before performing this operation. (Deprecated NumPy 1.25.)\n",
            "  blank = int(np.where(puzzle == 0)[0])\n"
          ]
        }
      ],
      "source": [
        "from copy import deepcopy\n",
        "import numpy as np\n",
        "import time\n",
        "\n",
        "def bestsolution(state):\n",
        "    bestsol = np.array([], int).reshape(-1, 9)\n",
        "    count = len(state) - 1\n",
        "    while count != -1:\n",
        "        bestsol = np.insert(bestsol, 0, state[count]['puzzle'], 0)\n",
        "        count = (state[count]['parent'])\n",
        "    return bestsol.reshape(-1, 3, 3)\n",
        "def all(checkarray):\n",
        "    set=[]\n",
        "    for it in set:\n",
        "        for checkarray in it:\n",
        "            return 1\n",
        "        else:\n",
        "            return 0\n",
        "def misplaced_tiles(puzzle,goal):\n",
        "    mscost = np.sum(puzzle != goal) - 1\n",
        "    return mscost if mscost > 0 else 0\n",
        "def coordinates(puzzle):\n",
        "    pos = np.array(range(9))\n",
        "    for p, q in enumerate(puzzle):\n",
        "        pos[q] = p\n",
        "    return pos\n",
        "def evaluvate_misplaced(puzzle, goal):\n",
        "    steps = np.array([('up', [0, 1, 2], -3),('down', [6, 7, 8],  3),('left', [0, 3, 6], -1),('right', [2, 5, 8],  1)],\n",
        "                dtype =  [('move',  str, 1),('position', list),('head', int)])\n",
        "    dtstate = [('puzzle',  list),('parent', int),('gn',  int),('hn',  int)]\n",
        "\n",
        "    costg = coordinates(goal)\n",
        "    parent = -1\n",
        "    gn = 0\n",
        "    hn = misplaced_tiles(coordinates(puzzle), costg)\n",
        "    state = np.array([(puzzle, parent, gn, hn)], dtstate)\n",
        "    dtpriority = [('position', int),('fn', int)]\n",
        "    priority = np.array([(0, hn)], dtpriority)\n",
        "    while 1:\n",
        "        priority = np.sort(priority, kind='mergesort', order=['fn', 'position'])\n",
        "        position, fn = priority[0]\n",
        "        priority = np.delete(priority, 0, 0)\n",
        "        puzzle, parent, gn, hn = state[position]\n",
        "        puzzle = np.array(puzzle)\n",
        "        blank = int(np.where(puzzle == 0)[0])\n",
        "        gn = gn + 1\n",
        "        c = 1\n",
        "        start_time = time.time()\n",
        "        for s in steps:\n",
        "            c = c + 1\n",
        "            if blank not in s['position']:\n",
        "                openstates = deepcopy(puzzle)\n",
        "                openstates[blank], openstates[blank + s['head']] = openstates[blank + s['head']], openstates[blank]\n",
        "                if ~(np.all(list(state['puzzle']) == openstates, 1)).any():\n",
        "                    end_time = time.time()\n",
        "                    if (( end_time - start_time ) > 2):\n",
        "                        print(\" The 8 puzzle is unsolvable \\n\")\n",
        "                        breakpoint\n",
        "                    hn = misplaced_tiles(coordinates(openstates), costg)\n",
        "                    q = np.array([(openstates, position, gn, hn)], dtstate)\n",
        "                    state = np.append(state, q, 0)\n",
        "                    fn = gn + hn\n",
        "                    q = np.array([(len(state) - 1, fn)], dtpriority)\n",
        "                    priority = np.append(priority, q, 0)\n",
        "                    if np.array_equal(openstates, goal):\n",
        "                        print(' The 8 puzzle is solvable \\n')\n",
        "                        return state, len(priority)\n",
        "    return state, len(priority)\n",
        "puzzle = []\n",
        "puzzle.append(2)\n",
        "puzzle.append(8)\n",
        "puzzle.append(3)\n",
        "puzzle.append(7)\n",
        "puzzle.append(1)\n",
        "puzzle.append(4)\n",
        "puzzle.append(0)\n",
        "puzzle.append(6)\n",
        "puzzle.append(5)\n",
        "goal = []\n",
        "goal.append(1)\n",
        "goal.append(2)\n",
        "goal.append(3)\n",
        "goal.append(8)\n",
        "goal.append(0)\n",
        "goal.append(4)\n",
        "goal.append(7)\n",
        "goal.append(6)\n",
        "goal.append(5)\n",
        "state, visited = evaluvate_misplaced(puzzle, goal)\n",
        "bestpath = bestsolution(state)\n",
        "print(str(bestpath).replace('[', ' ').replace(']', ''))\n",
        "totalmoves = len(bestpath) - 1\n",
        "print('\\nSteps to reach goal:',totalmoves)\n",
        "visit = len(state) - visited\n",
        "print('Total nodes visited: ',visit, \"\\n\")"
      ]
    }
  ],
  "metadata": {
    "colab": {
      "provenance": [],
      "include_colab_link": true
    },
    "kernelspec": {
      "display_name": "Python 3",
      "name": "python3"
    },
    "language_info": {
      "name": "python"
    }
  },
  "nbformat": 4,
  "nbformat_minor": 0
}